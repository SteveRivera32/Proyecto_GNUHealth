{
 "cells": [
  {
   "cell_type": "markdown",
   "id": "f681d48c",
   "metadata": {},
   "source": [
    "## Metodos:\n",
    "Para poder concetarnos a postgre podemos crear un agente de langchain o podemos usar el archivo base de prem sql y modificaro para que fcunione con MCP\n",
    "Donde MCP es Model Context Protocol que da read-only-acces a una base de datso de postgre esto se utiliza para que los LLMs puedan acceder a ella:\n",
    "mas documentacion en: https://github.com/modelcontextprotocol/servers/tree/main/src/postgres\n",
    "\n"
   ]
  },
  {
   "cell_type": "code",
   "execution_count": 3,
   "id": "9c6b9797",
   "metadata": {},
   "outputs": [
    {
     "name": "stderr",
     "output_type": "stream",
     "text": [
      "/Users/diegocarcamo/Documents/Proyecto_GNUHealth/venv/lib/python3.11/site-packages/tqdm/auto.py:21: TqdmWarning: IProgress not found. Please update jupyter and ipywidgets. See https://ipywidgets.readthedocs.io/en/stable/user_install.html\n",
      "  from .autonotebook import tqdm as notebook_tqdm\n",
      "2025-05-14 16:39:09,518 - [UTILS] - WARNING - Unable to use transformers. Install using: pip install transformers\n"
     ]
    }
   ],
   "source": [
    "import pg8000\n",
    "import time\n",
    "from urllib.parse import urlparse\n",
    "from premsql.executors.base import BaseExecutor\n",
    "\n",
    "class PostgreSQLExecutor(BaseExecutor):\n",
    "    def parse_dsn(self, dsn: str):\n",
    "        parsed = urlparse(dsn)\n",
    "        return {\n",
    "            \"user\": \"admin\",\n",
    "            \"password\": \"gnusolidario\",\n",
    "            \"host\": \"localhost\",\n",
    "            \"port\": parsed.port or 5432,\n",
    "            \"database\": \"ghdemo44\"\n",
    "        }\n",
    "\n",
    "    def execute_sql(self, sql: str, dsn_or_db_path: str) -> dict:\n",
    "        conn_params = self.parse_dsn(dsn_or_db_path)\n",
    "        result, error = None, None\n",
    "        start_time = time.time()\n",
    "        \n",
    "        try:\n",
    "            conn = pg8000.connect(**conn_params)\n",
    "            cursor = conn.cursor()\n",
    "            cursor.execute(sql)\n",
    "            try:\n",
    "                result = cursor.fetchall()\n",
    "                column_names = [desc[0] for desc in cursor.description]\n",
    "            except pg8000.dbapi.ProgrammingError:\n",
    "                # If no results to fetch (e.g., for INSERT)\n",
    "                result = None\n",
    "                column_names = None\n",
    "            conn.commit()\n",
    "        except Exception as e:\n",
    "            error = str(e)\n",
    "        finally:\n",
    "            if 'cursor' in locals():\n",
    "                cursor.close()\n",
    "            if 'conn' in locals():\n",
    "                conn.close()\n",
    "            end_time = time.time()\n",
    "\n",
    "        return {\n",
    "            \"result\": result,\n",
    "            \"columns\": column_names,\n",
    "            \"error\": error,\n",
    "            \"execution_time\": end_time - start_time,\n",
    "        }\n"
   ]
  },
  {
   "cell_type": "code",
   "execution_count": 2,
   "id": "a620ba4a",
   "metadata": {},
   "outputs": [
    {
     "name": "stdout",
     "output_type": "stream",
     "text": [
      "Tables in ghdemo44:\n"
     ]
    }
   ],
   "source": [
    "import pg8000\n",
    "\n",
    "# Establish connection\n",
    "conn = pg8000.connect(\n",
    "    user=\"admin\",\n",
    "    password=\"gnusolidario\",\n",
    "    host=\"localhost\",      # or 'db' if you're inside another Docker container\n",
    "    port=5432,\n",
    "    database=\"ghdemo44\"\n",
    ")\n",
    "\n",
    "# Create a cursor to execute SQL\n",
    "cursor = conn.cursor()\n",
    "\n",
    "# Example: Run a test query\n",
    "cursor.execute(\"SELECT * FROM account_tax_line_template WHERE id IS NOT NULL;\")\n",
    "tables = cursor.fetchall()\n",
    "\n",
    "print(\"Tables in ghdemo44:\")\n",
    "for table in tables:\n",
    "    print(table[0])\n",
    "\n",
    "# Clean up\n",
    "cursor.close()\n",
    "conn.close()\n"
   ]
  }
 ],
 "metadata": {
  "kernelspec": {
   "display_name": "venv",
   "language": "python",
   "name": "python3"
  },
  "language_info": {
   "codemirror_mode": {
    "name": "ipython",
    "version": 3
   },
   "file_extension": ".py",
   "mimetype": "text/x-python",
   "name": "python",
   "nbconvert_exporter": "python",
   "pygments_lexer": "ipython3",
   "version": "3.11.11"
  }
 },
 "nbformat": 4,
 "nbformat_minor": 5
}
